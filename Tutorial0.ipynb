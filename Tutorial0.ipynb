{
  "nbformat": 4,
  "nbformat_minor": 0,
  "metadata": {
    "colab": {
      "provenance": [],
      "authorship_tag": "ABX9TyMA1a9Li/e6SYvw6sRDvjWB",
      "include_colab_link": true
    },
    "kernelspec": {
      "name": "python3",
      "display_name": "Python 3"
    },
    "language_info": {
      "name": "python"
    }
  },
  "cells": [
    {
      "cell_type": "markdown",
      "metadata": {
        "id": "view-in-github",
        "colab_type": "text"
      },
      "source": [
        "<a href=\"https://colab.research.google.com/github/seank1m/artificial-intelligence-for-robotics/blob/main/Tutorial0.ipynb\" target=\"_parent\"><img src=\"https://colab.research.google.com/assets/colab-badge.svg\" alt=\"Open In Colab\"/></a>"
      ]
    },
    {
      "cell_type": "code",
      "execution_count": null,
      "metadata": {
        "colab": {
          "base_uri": "https://localhost:8080/"
        },
        "id": "qLGqbRih3Dmc",
        "outputId": "e63b4572-0029-4ff7-ff55-74aa1722b37c"
      },
      "outputs": [
        {
          "output_type": "stream",
          "name": "stdout",
          "text": [
            "Landmark: 6.07.0\n",
            "Landmark: 5.14.9\n",
            "Landmark: 15.020.0\n",
            "Landmark: 8.00.0\n",
            "Landmark: -3.02.0\n",
            "Landmark: -10.0-10.0\n",
            "Landmark: 5.05.0\n",
            "Landmark: 0.00.0\n",
            "Euclidean distance: 2.23606797749979\n",
            "Euclidean distance: 0.141421356237309\n",
            "Euclidean distance: 18.027756377319946\n",
            "Euclidean distance: 5.830951894845301\n",
            "Euclidean distance: 8.54400374531753\n",
            "Euclidean distance: 21.213203435596427\n",
            "Euclidean distance: 0.0\n",
            "Euclidean distance: 7.0710678118654755\n",
            "answer: 0.0\n"
          ]
        }
      ],
      "source": [
        "import math\n",
        "import random\n",
        "import time\n",
        "\n",
        "\n",
        "# Create a Class called \"Location\".\n",
        "# Each location object will have an x and y variable denoting a location in 2D space.\n",
        "class Location:\n",
        "    def __init__(self, x, y):\n",
        "\n",
        "        # Save the input arguments as object variables\n",
        "        self.x = x\n",
        "        self.y = y\n",
        "\n",
        "\n",
        "# Create a Class called \"WeightedAverage\"\n",
        "# This Class provides a method for processing a list of Locations\n",
        "class WeightedAverager:\n",
        "    def __init__(self, origin, landmarks):\n",
        "\n",
        "        # Save the input arguments as object variables\n",
        "        self.origin = origin\n",
        "        self.landmarks = landmarks\n",
        "\n",
        "        # Define parameters\n",
        "        threshold = 10.0 # outliers beyond this distance should be ignored\n",
        "\n",
        "        # Call the averaging function\n",
        "        answer = self.weighted_average(threshold)\n",
        "\n",
        "        # Print the answer to console\n",
        "        print(\"answer: \" + str(answer))\n",
        "\n",
        "    def weighted_average(self, threshold):\n",
        "\n",
        "        # TODO: most of your code will go here\n",
        "\n",
        "\n",
        "        return 0.0 # Change this return value later\n",
        "\n",
        "\n",
        "\n",
        "\n",
        "if __name__ == '__main__':\n",
        "\n",
        "    # Setup the data\n",
        "    origin = Location(5.0, 5.0)\n",
        "    landmarks = [Location(6.0, 7.0), Location(5.1, 4.9), Location(15.0, 20.0), Location(8.0, 0.0), Location(-3.0, 2.0), Location(-10.0, -10.0), Location(5.0, 5.0), Location(0.0, 0.0)]\n",
        "\n",
        "    # TODO: print this list of locations using a for-loop\n",
        "    for landmark in landmarks:\n",
        "        print (\"Landmark: \" + str(landmark.x) + str(landmark.y))\n",
        "\n",
        "    for landmark in landmarks:\n",
        "        print (\"Euclidean distance: \" + str(math.sqrt(math.pow(landmark.x - origin.x, 2) + math.pow(landmark.y - origin.y, 2))))\n",
        "\n",
        "    # Create and run the WeightedAverager object\n",
        "    weighted_averager = WeightedAverager(origin, landmarks)\n"
      ]
    }
  ]
}