{
  "nbformat": 4,
  "nbformat_minor": 0,
  "metadata": {
    "colab": {
      "provenance": [],
      "toc_visible": true,
      "include_colab_link": true
    },
    "kernelspec": {
      "name": "python3",
      "display_name": "Python 3"
    },
    "language_info": {
      "name": "python"
    }
  },
  "cells": [
    {
      "cell_type": "markdown",
      "metadata": {
        "id": "view-in-github",
        "colab_type": "text"
      },
      "source": [
        "<a href=\"https://colab.research.google.com/github/seank1m/artificial-intelligence-for-robotics/blob/main/Tutorial1.ipynb\" target=\"_parent\"><img src=\"https://colab.research.google.com/assets/colab-badge.svg\" alt=\"Open In Colab\"/></a>"
      ]
    },
    {
      "cell_type": "markdown",
      "source": [
        "# Tutorial 1: Metrics\n",
        "In this tutorial, we'll cover some metrics we can use to evaluate our models."
      ],
      "metadata": {
        "id": "SKzT5cU2Kptt"
      }
    },
    {
      "cell_type": "markdown",
      "source": [
        "# Setup\n",
        "We will begin by installing some packages and getting some data to experiment on.\n",
        "We will use models from *scikit learn* to make predictions on the data, and create the code for the metrics to evaluate them against."
      ],
      "metadata": {
        "id": "3HWHtEJVNnkI"
      }
    },
    {
      "cell_type": "code",
      "execution_count": null,
      "metadata": {
        "id": "TtOEbWEq_vGu"
      },
      "outputs": [],
      "source": [
        "#pip install numpy matplotlib sklearn\n",
        "\n",
        "import numpy as np\n",
        "import matplotlib.pyplot as plt\n",
        "import sklearn"
      ]
    },
    {
      "cell_type": "code",
      "source": [
        "# Using scikit learn\n",
        "from sklearn.datasets import make_classification\n",
        "from sklearn.model_selection import train_test_split\n",
        "from sklearn.linear_model import LogisticRegression\n",
        "\n",
        "# Generate sample data\n",
        "X, y = make_classification(n_classes=2, n_samples=1000)\n",
        "X_train, X_test, y_train, y_test = train_test_split(X, y, test_size=0.2)\n",
        "\n",
        "# Train a logistic regression model\n",
        "clf = LogisticRegression().fit(X_train, y_train)  # clf for \"CLassiFier\"\n",
        "\n",
        "# Make predictions on test set\n",
        "y_pred = clf.predict(X_test)\n"
      ],
      "metadata": {
        "id": "lOyJMLulO_8q"
      },
      "execution_count": null,
      "outputs": []
    },
    {
      "cell_type": "markdown",
      "source": [
        "# Evaluation Metrics\n",
        "\n"
      ],
      "metadata": {
        "id": "WK14dohYPGbA"
      }
    },
    {
      "cell_type": "markdown",
      "source": [
        "## Confusion Matrix\n",
        "In a binary **classification** problem, the values of the labels are positive/negative, true/false, `1`/`0`.\n",
        "A confusion matrix compares the labels between the true/actual labels and the predicted labels, and counts the occurances of each type.\n",
        "\n",
        "|                       | **Predicted Positive** | **Predicted Negative** |\n",
        "|-----------------------|------------------------|------------------------|\n",
        "| **Actually Positive** | True Positive          | False Negative         |\n",
        "| **Actually Negative** | False Positive         | True Negative          |\n",
        "\n",
        "\n",
        "The diagonal indicates accurate predictions, whereas the off-diagonals report different error modes.\n",
        "The sum of each column gives the count of each prediction label, while the sum of each row gives the count of each label in the dataset.\n",
        "\n",
        "```python\n",
        "true_positive  = np.sum( (y_true == positive_label) & (y_pred == positive_label) )  # accurate\n",
        "false_positive = np.sum( (y_true != positive_label) & (y_pred == positive_label) )  # error (type I)\n",
        "false_negative = np.sum( (y_true == positive_label) & (y_pred != positive_label) )  # error (type II)\n",
        "true_negative  = np.sum( (y_true != positive_label) & (y_pred != positive_label) )  # accurate\n",
        "```\n",
        "\n",
        "---\n",
        "> Complete the function to calculate the confusion matrix given the true labels and predicted labels."
      ],
      "metadata": {
        "id": "UjjOuytKPKAk"
      }
    },
    {
      "cell_type": "code",
      "source": [
        "def confusion_matrix(y_true, y_pred, pos_label=1):\n",
        "    \"\"\"\n",
        "    Calculates the confusion matrix of true vs predicted labels\n",
        "    :param y_true: True labels\n",
        "    :param y_pred: Predicted labels\n",
        "    :return: Confusion matrix in the form of a 2x2 np.array\n",
        "    \"\"\"\n",
        "    # TODO\n",
        "    tp = np.sum( (y_true == pos_label) & (y_pred == pos_label) ) # true positive\n",
        "    fp = np.sum( (y_true != pos_label) & (y_pred == pos_label) ) # false positive\n",
        "    fn = np.sum( (y_true == pos_label) & (y_pred != pos_label) ) # false negative\n",
        "    tn = np.sum( (y_true != pos_label) & (y_pred != pos_label) ) # true negative\n",
        "    return np.array([[tp, fn], [fp, tn]])\n",
        "\n",
        "# Compute confusion matrix\n",
        "conf_mat = confusion_matrix(y_test, y_pred)\n",
        "print(\"Confusion Matrix:\", conf_mat, sep='\\n')"
      ],
      "metadata": {
        "id": "VypFUxmHuqjD",
        "colab": {
          "base_uri": "https://localhost:8080/"
        },
        "outputId": "720287b5-9700-41a9-e8e7-65c35ae08643"
      },
      "execution_count": null,
      "outputs": [
        {
          "output_type": "stream",
          "name": "stdout",
          "text": [
            "Confusion Matrix:\n",
            "[[77 14]\n",
            " [15 94]]\n"
          ]
        }
      ]
    },
    {
      "cell_type": "code",
      "source": [],
      "metadata": {
        "id": "io0MWw2l3nyP"
      },
      "execution_count": null,
      "outputs": []
    },
    {
      "cell_type": "markdown",
      "source": [
        "## Accuracy Score\n",
        "Accuracy score is the proportion of *accurate* predictions.\n",
        "This calculated as:\n",
        "```python\n",
        "accuracy_score = (true_positives + true_negatives) / total_predictions\n",
        "```\n",
        "---\n",
        "> Complete the function to calculate the accuracy score given the true labels and predicted labels. You can use the confusion matrix function just implemented."
      ],
      "metadata": {
        "id": "ot0mreQgXQ6v"
      }
    },
    {
      "cell_type": "code",
      "source": [
        "def accuracy_score(y_true, y_pred, pos_label=1):\n",
        "    \"\"\"\n",
        "    Calculates the accuracy of the predictions\n",
        "    :param y_true: True labels\n",
        "    :param y_pred: Predicted labels\n",
        "    :return: Accuracy as a float between 0 and 1\n",
        "    \"\"\"\n",
        "    cm = confusion_matrix(y_true, y_pred, pos_label=pos_label)\n",
        "    [[tp, fn], [fp, tn]] = cm\n",
        "    acc = (tp + tn) / (tp + tn + fp + fn)\n",
        "    return acc\n",
        "\n",
        "# Compute accuracy\n",
        "acc = accuracy_score(y_test, y_pred)\n",
        "print(\"Accuracy:\", acc)"
      ],
      "metadata": {
        "id": "qCFISXJhvktM",
        "colab": {
          "base_uri": "https://localhost:8080/"
        },
        "outputId": "7f13a284-d719-4f16-9b22-660b6b95b7a0"
      },
      "execution_count": null,
      "outputs": [
        {
          "output_type": "stream",
          "name": "stdout",
          "text": [
            "Accuracy: 0.855\n"
          ]
        }
      ]
    },
    {
      "cell_type": "markdown",
      "source": [
        "## F1 Score\n",
        "The F1 score is the *harmonic mean* of *precision* and *recall*.\n",
        "To break that down:\n",
        "$$\n",
        "\\text{precision}\n",
        "= \\frac{\\text{true positives}}{\\text{true positives} + \\text{false positives}}\n",
        "\\\\\n",
        "\\text{recall}\n",
        "= \\frac{\\text{true positives}}{\\text{true positives} + \\text{false negatives}}\n",
        "\\\\\n",
        "F_1\n",
        "= \\frac{2}{\\frac1{\\text{precision}} + \\frac1{\\text{recall}}}\n",
        "= 2 \\frac\n",
        "    { \\text{precision} \\times \\text{recall} }\n",
        "    { \\text{precision}    +   \\text{recall} }\n",
        "$$\n",
        "\n",
        "---\n",
        "> Complete the function to calculate the F1 score given the true labels and predicted labels. You can use the confusion matrix function previously implemented."
      ],
      "metadata": {
        "id": "UdV0Jzz0bDkz"
      }
    },
    {
      "cell_type": "code",
      "source": [
        "def F1_score(y_true, y_pred, pos_label=1):\n",
        "    \"\"\"\n",
        "    Calculates the F1 score of the predictions\n",
        "    :param y_true: True labels\n",
        "    :param y_pred: Predicted labels\n",
        "    :return: F1 score as a float between 0 and 1\n",
        "    \"\"\"\n",
        "    cm = confusion_matrix(y_true, y_pred, pos_label=pos_label)\n",
        "    [[tp, fn], [fp, tn]] = cm  # use if desired\n",
        "\n",
        "    # TODO\n",
        "    precision = tp / (tp + fp)\n",
        "    recall    = tp / (tp + fn)\n",
        "    f1 = (2 * precision * recall) / (precision + recall)\n",
        "    return str(f1 * 100) + \"%\"\n",
        "\n",
        "# Compute F1 score\n",
        "f1 = F1_score(y_test, y_pred)\n",
        "print(\"F1 score: \", f1)"
      ],
      "metadata": {
        "id": "4QGXv4QhvpZB",
        "colab": {
          "base_uri": "https://localhost:8080/"
        },
        "outputId": "987ee38a-21e7-495b-86f0-4e1d5dd99ebb"
      },
      "execution_count": null,
      "outputs": [
        {
          "output_type": "stream",
          "name": "stdout",
          "text": [
            "F1 score:  84.15300546448088%\n"
          ]
        }
      ]
    },
    {
      "cell_type": "markdown",
      "source": [
        "NOTE: This score is used in machine learning to as harmonic mean of the precision and recall scores. It ranges from 0-100%, and a higher F1 score denotes a better quality classifier."
      ],
      "metadata": {
        "id": "s1qLHgZO9w7N"
      }
    },
    {
      "cell_type": "markdown",
      "source": [
        "## IoU\n",
        "The *Intersection over Union* metric (also termed the *Jaccard* score) describes the similartiy between sets *symmetrically*. This is especially important when neither of the predictions are the \"ground truth\", and a symmetric metric is desired.\n",
        "\n",
        "As the name implies, it is calculated as:\n",
        "$$\n",
        "\\text{IoU}(A,B)\n",
        "= \\frac{|A \\cap B|}{|A \\cup B|}\n",
        "$$\n",
        "\n",
        "Considering the confusion matrix defined above, this is equivalent to:\n",
        "$$\n",
        "\\frac\n",
        "    {\\text{true positives}}\n",
        "    {\\text{true positives} + \\text{false positives} + \\text{false negatives}}\n",
        "$$\n",
        "\n",
        "---\n",
        "> Complete the function to calculate the IoU metric, and observe that it is symmetric."
      ],
      "metadata": {
        "id": "VyYdaUdo04bY"
      }
    },
    {
      "cell_type": "code",
      "source": [
        "def intersection_over_union(y_true, y_pred, pos_label=1):\n",
        "    \"\"\"\n",
        "    Calculates the Intersection over Union (IoU) of the predictions\n",
        "    :param y_true: True labels\n",
        "    :param y_pred: Predicted labels\n",
        "    :return: IoU as a float between 0 and 1\n",
        "    \"\"\"\n",
        "    cm = confusion_matrix(y_true, y_pred, pos_label=pos_label)\n",
        "    [[tp, fn], [fp, tn]] = cm  # use if desired\n",
        "\n",
        "    # TODO\n",
        "    iou = tp / (tp + fp + fn)\n",
        "    return iou\n",
        "\n",
        "# Compute IoU\n",
        "iou = intersection_over_union(y_test, y_pred)\n",
        "print(\"IoU:\", iou)\n",
        "\n",
        "# Check symmetry\n",
        "riou = intersection_over_union(y_pred, y_test)\n",
        "print(\"IoU:\", riou, \"(inputs reversed)\")"
      ],
      "metadata": {
        "id": "36KQbSCo3xAM",
        "colab": {
          "base_uri": "https://localhost:8080/"
        },
        "outputId": "a3bb1b71-37b4-4d1d-f89f-15a81616b014"
      },
      "execution_count": null,
      "outputs": [
        {
          "output_type": "stream",
          "name": "stdout",
          "text": [
            "IoU: 0.7264150943396226\n",
            "IoU: 0.7264150943396226 (inputs reversed)\n"
          ]
        }
      ]
    },
    {
      "cell_type": "markdown",
      "source": [
        "NOTE: We can observe that, when the test and prediction values are reversed, the value for IoU is the same\n"
      ],
      "metadata": {
        "id": "bi2W3KWP9jkR"
      }
    },
    {
      "cell_type": "markdown",
      "source": [
        "## ROC Curve\n",
        "In this case, we will use a linear regression model on a classification problem."
      ],
      "metadata": {
        "id": "M49kt4-Ueq7q"
      }
    },
    {
      "cell_type": "code",
      "source": [
        "from sklearn.linear_model import LinearRegression\n",
        "\n",
        "# Train a linear regression model\n",
        "reg = LinearRegression().fit(X_train, y_train)  # reg for \"REGressor\"\n",
        "\n",
        "# Make predictions on test set\n",
        "y_score = reg.predict(X_test)"
      ],
      "metadata": {
        "id": "YesMgge0qjMO"
      },
      "execution_count": null,
      "outputs": []
    },
    {
      "cell_type": "markdown",
      "source": [
        "The `y_score` is a continuous variable, and is transformed to a binary classification `y_label` by selecting a *threshold*.\n",
        "\n",
        "```python\n",
        "y_pred = (y_score >= threshold)\n",
        "```\n",
        "\n",
        "A *Receiver Operating Characteristic* (ROC) curve shows the behaviour of the classification model as the *threshold* value is varied.\n",
        "At various threshold values, the false positive rate is compared against the true positive rate.\n",
        "$$\n",
        "\\text{false positive rate}\n",
        "= \\frac{\\text{false positives}}{\\text{false positives} + \\text{true negatives}}\n",
        "\\\\\n",
        "\\text{true positive rate}\n",
        "= \\frac{\\text{true positives}}{\\text{true positives} + \\text{false negatives}}\n",
        "$$\n",
        "\n",
        "Note that the optimal classifier exists at the top left corner of the plot at point (0,1), where the *false positive rate* is at the minimum 0 while the *true positive rate* is at the maximum 1.\n",
        "\n",
        "Random, uninformative classifiers exist on the diagonal line from (0,0) to (1,1), where the *false positive rate* equals the *true positive rate*.\n",
        "\n",
        "---\n",
        "> Complete the function to calculate the parameters of the ROC curve."
      ],
      "metadata": {
        "id": "-JHzJeoYrFNm"
      }
    },
    {
      "cell_type": "code",
      "source": [
        "def roc_curve(y_true, y_score):\n",
        "    \"\"\"\n",
        "    Calculates the receiver operating characteristic (ROC) curve\n",
        "    :param y_true: True labels\n",
        "    :param y_score: Model score/probability for the positive class\n",
        "    thresholds (list): thresholds used for decision making\n",
        "    :return: False Positive Rate (FPR), True Positive Rate (TPR) as np.arrays\n",
        "    \"\"\"\n",
        "\n",
        "    y_true = np.array(y_true)\n",
        "    y_score = np.array(y_score)\n",
        "    thresholds = np.unique(y_score)[::-1]  # reverse: from high threshold to low\n",
        "    fpr = []\n",
        "    tpr = []\n",
        "\n",
        "\n",
        "    for threshold in thresholds:\n",
        "        # TODO\n",
        "      y_pred = (y_score >= threshold)\n",
        "      cm = confusion_matrix(y_true, y_pred)\n",
        "      [[tp, fn], [fp, tn]] = cm  # use if desired\n",
        "\n",
        "      fpr.append(fp / (fp + tn))\n",
        "      tpr.append(tp / (tp + fn))\n",
        "\n",
        "    fpr = np.array(fpr)  # convert to numpy\n",
        "    tpr = np.array(tpr)\n",
        "    return fpr, tpr, thresholds\n",
        "\n",
        "# Compute false positive rate and true positive rate\n",
        "fpr, tpr, th = roc_curve(y_test, y_score)\n",
        "\n",
        "# Plot ROC curve\n",
        "#if ... in fpr or ... in tpr:\n",
        "print(\"Thresholds:\", th[:5])\n",
        "print(\"False positive rate:\", fpr[:5])\n",
        "print(\"True positive rate:\", tpr[:5])\n",
        "#else:\n",
        "plt.plot(fpr, tpr)\n",
        "plt.xlabel('False Positive Rate')\n",
        "plt.ylabel('True Positive Rate')\n",
        "plt.show()"
      ],
      "metadata": {
        "id": "4d_tc8IEvsDm",
        "colab": {
          "base_uri": "https://localhost:8080/",
          "height": 501
        },
        "outputId": "71533ec6-8cd2-4e4f-b774-a15dcad19969"
      },
      "execution_count": null,
      "outputs": [
        {
          "output_type": "stream",
          "name": "stdout",
          "text": [
            "Thresholds: [1.6251924  1.47102083 1.36697772 1.18984411 1.13983018]\n",
            "False positive rate: [0. 0. 0. 0. 0.]\n",
            "True positive rate: [0.01098901 0.02197802 0.03296703 0.04395604 0.05494505]\n"
          ]
        },
        {
          "output_type": "display_data",
          "data": {
            "text/plain": [
              "<Figure size 640x480 with 1 Axes>"
            ],
            "image/png": "[encoded data removed]"
          },
          "metadata": {}
        }
      ]
    },
    {
      "cell_type": "markdown",
      "source": [
        "### AUC Score\n",
        "The *Area Under the Curve* (AUC) of the ROC curve is a useful metric in describing the power of the model.\n",
        "The area under a curve can be calculated with the `numpy.trapz` function:\n",
        "```python\n",
        "area = np.trapz(y, x)\n",
        "```\n",
        "\n",
        "As described above, an optimal classifier exists at the point (0,1), thus the area under the ROC curve is 1.\n",
        "Similarly an uninformative classifier on the line from (0,0) to (1,1) will give a maximum AUC of 0.5.\n",
        "\n",
        "---\n",
        "> Complete the function to calculate the ROC AUC metric."
      ],
      "metadata": {
        "id": "x7zZPJSQuvjQ"
      }
    },
    {
      "cell_type": "code",
      "source": [
        "def roc_auc_score(y_true, y_score):\n",
        "    # TODO\n",
        "\n",
        "    fpr = []\n",
        "    tpr = []\n",
        "\n",
        "    fpr, tpr, th = roc_curve(y_true, y_score)\n",
        "\n",
        "    fpr = np.array(fpr)  # convert to numpy\n",
        "    tpr = np.array(tpr)\n",
        "\n",
        "    auc = np.trapz(tpr, fpr)\n",
        "    return auc\n",
        "\n",
        "# Compute AUC score\n",
        "auc = roc_auc_score(y_test, y_pred)\n",
        "print(\"AUC score: \", auc)"
      ],
      "metadata": {
        "id": "HLkMyCQDymgZ",
        "colab": {
          "base_uri": "https://localhost:8080/"
        },
        "outputId": "dbd97a8e-646c-49eb-be9b-da0bece8d2e9"
      },
      "execution_count": null,
      "outputs": [
        {
          "output_type": "stream",
          "name": "stdout",
          "text": [
            "AUC score:  0.6645905226832758\n"
          ]
        }
      ]
    }
  ]
}