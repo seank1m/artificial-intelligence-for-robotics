{
  "nbformat": 4,
  "nbformat_minor": 0,
  "metadata": {
    "colab": {
      "provenance": [],
      "include_colab_link": true
    },
    "kernelspec": {
      "name": "python3",
      "display_name": "Python 3"
    },
    "language_info": {
      "name": "python"
    }
  },
  "cells": [
    {
      "cell_type": "markdown",
      "metadata": {
        "id": "view-in-github",
        "colab_type": "text"
      },
      "source": [
        "<a href=\"https://colab.research.google.com/github/seank1m/artificial-intelligence-for-robotics/blob/main/Tutorial3_Template.ipynb\" target=\"_parent\"><img src=\"https://colab.research.google.com/assets/colab-badge.svg\" alt=\"Open In Colab\"/></a>"
      ]
    },
    {
      "cell_type": "markdown",
      "source": [
        "# Tutorial 2: Support Vector Machine (SVM)\n",
        "\n",
        "Support Vector Machine (SVM) is a learning algorithm used in supervised learning settings, whether it be for classification or regression analysis. SVM requires the dataset to be labeled. In terms of classification, SVMs can perform linear and non-linear classification. Linear classification is when the hyperplane that separates the classes is defined as a linear function. For this tutorial, we will focus on linear classification and at the end look at a case where the classes are not linear separable."
      ],
      "metadata": {
        "id": "rbk1k-R22ckL"
      }
    },
    {
      "cell_type": "markdown",
      "source": [
        "# Setup\n",
        "Firstly, we'll be generating some toy data to better visualise the problem and algorithms. To easily visualize the data, we will create a set of 2D data points. However, keep in mind that SVM can both be applied to multi-dimensional data. The setup is similar to what we did in the last tutorial."
      ],
      "metadata": {
        "id": "dtqJKpb23DUA"
      }
    },
    {
      "cell_type": "code",
      "source": [
        "# installing libraries that we need to run SVMs\n",
        "%pip install numpy scipy\n",
        "\n",
        "# importing the above-installed libraries\n",
        "import numpy as np\n",
        "import scipy"
      ],
      "metadata": {
        "id": "m4OOXUO13_cH",
        "colab": {
          "base_uri": "https://localhost:8080/"
        },
        "outputId": "4bbc4617-a99b-4cab-f79c-8b98215af289"
      },
      "execution_count": 2,
      "outputs": [
        {
          "output_type": "stream",
          "name": "stdout",
          "text": [
            "Requirement already satisfied: numpy in /usr/local/lib/python3.11/dist-packages (1.26.4)\n",
            "Requirement already satisfied: scipy in /usr/local/lib/python3.11/dist-packages (1.14.1)\n"
          ]
        }
      ]
    },
    {
      "cell_type": "code",
      "source": [
        "# installing libraries that we need to visualize data\n",
        "%pip install matplotlib plotly\n",
        "\n",
        "# importing the above-installed libraries\n",
        "from matplotlib import pyplot as plt\n",
        "from plotly import express as px, graph_objects as go"
      ],
      "metadata": {
        "id": "lvCpp0owL8YO",
        "colab": {
          "base_uri": "https://localhost:8080/"
        },
        "outputId": "fa90369f-8a7a-4e12-c7ef-c9f624240906"
      },
      "execution_count": 3,
      "outputs": [
        {
          "output_type": "stream",
          "name": "stdout",
          "text": [
            "Requirement already satisfied: matplotlib in /usr/local/lib/python3.11/dist-packages (3.10.0)\n",
            "Requirement already satisfied: plotly in /usr/local/lib/python3.11/dist-packages (5.24.1)\n",
            "Requirement already satisfied: contourpy>=1.0.1 in /usr/local/lib/python3.11/dist-packages (from matplotlib) (1.3.1)\n",
            "Requirement already satisfied: cycler>=0.10 in /usr/local/lib/python3.11/dist-packages (from matplotlib) (0.12.1)\n",
            "Requirement already satisfied: fonttools>=4.22.0 in /usr/local/lib/python3.11/dist-packages (from matplotlib) (4.56.0)\n",
            "Requirement already satisfied: kiwisolver>=1.3.1 in /usr/local/lib/python3.11/dist-packages (from matplotlib) (1.4.8)\n",
            "Requirement already satisfied: numpy>=1.23 in /usr/local/lib/python3.11/dist-packages (from matplotlib) (1.26.4)\n",
            "Requirement already satisfied: packaging>=20.0 in /usr/local/lib/python3.11/dist-packages (from matplotlib) (24.2)\n",
            "Requirement already satisfied: pillow>=8 in /usr/local/lib/python3.11/dist-packages (from matplotlib) (11.1.0)\n",
            "Requirement already satisfied: pyparsing>=2.3.1 in /usr/local/lib/python3.11/dist-packages (from matplotlib) (3.2.1)\n",
            "Requirement already satisfied: python-dateutil>=2.7 in /usr/local/lib/python3.11/dist-packages (from matplotlib) (2.8.2)\n",
            "Requirement already satisfied: tenacity>=6.2.0 in /usr/local/lib/python3.11/dist-packages (from plotly) (9.0.0)\n",
            "Requirement already satisfied: six>=1.5 in /usr/local/lib/python3.11/dist-packages (from python-dateutil>=2.7->matplotlib) (1.17.0)\n"
          ]
        }
      ]
    },
    {
      "cell_type": "markdown",
      "source": [
        "Let's create a 2D toy dataset. The dataset will have 2 clusters with each cluster having 100 data points. A data point is represented using its 2D position on the Cartesian (xy) space. Thus, each data point has 2 features: x position and y position.\n",
        "We will first define our clusters as Gaussian ellipses and later sample 100 points from the ellipses. The formal definition of an ellipse can be written as\n",
        "$$\n",
        "\\frac{x^2}{a^2} + \\frac{y^2}{b^2} = 1 , \\text{where } a \\ge b > 0 .\\\\\n",
        "$$\n",
        "Here $a$ is referred to as the width of the ellipse or the semi-major axis and $b$ is the height of the ellipse or the semi-minor axis.\n",
        "The above equation results in an ellipse with its center at the origin. However if we want to shift it to a different location, the center position needs to be specified.\n",
        "Thus, below we define values for each cluster, 2D values for the centers or `mean`s, values for $a$ `major` axis and values for $b$ `minor` axis.\n",
        "Additionally, we define `angle`s to rotate the clusters."
      ],
      "metadata": {
        "id": "9tVg7GWwYAtI"
      }
    },
    {
      "cell_type": "code",
      "source": [
        "from math import pi\n",
        "rng = np.random.default_rng(4)  # Random Number Generator\n",
        "\n",
        "n_clusters = 2  # Number of clusters\n",
        "n_points_per_cluster = 100  # Number of data points per cluster\n",
        "n_points = n_points_per_cluster * n_clusters  # total Number of data points\n",
        "\n",
        "# Let's manually create some clusters\n",
        "mean = np.array([[0, 0], [20, 20]])  # Mean 2D position of the 2 clusters\n",
        "major = np.array([2, 3])  # Semi-major axis of the clusters (a)\n",
        "minor = np.array([2, 1])  # Semi-minor axis of the clusters (b)\n",
        "angle = np.array([0, pi/4])  # Angle of rotation of the clusters\n",
        "assert all(minor <= major)\n",
        "\n",
        "clusters = []\n",
        "covs = []\n",
        "\n",
        "for mn, mj, mi, a in zip(mean, major, minor, angle):\n",
        "    c = np.cos(a) # cosine of the angle\n",
        "    s = np.sin(a) # sine of the angle\n",
        "    R = np.array([\n",
        "        [c,-s],\n",
        "        [s, c],\n",
        "    ])  # 2D rotation matrix as per the specified angle\n",
        "    D = np.array([\n",
        "        [mj**2, 0],\n",
        "        [0, mi**2],\n",
        "    ]) # Diagonal matrix consisting of major and minor axis values\n",
        "    cov = R @ D @ R.T # Covariance of the ellipse (rotated)\n",
        "    covs.append(cov)\n",
        "    clusters.append(\n",
        "        rng.multivariate_normal(\n",
        "            mn, cov,\n",
        "            size=n_points_per_cluster,\n",
        "        ),  # Generate 100 random points from a multivariant normal with the specified mean and covariance.\n",
        "    )\n",
        "\n",
        "points = np.concatenate(clusters, axis=0)  # Concatenate all points in axis 0 resulting in [200, 2] vector.\n",
        "# Depending on your dataset these points will have the shape of [number of data points, number of features]\n",
        "\n",
        "# Let's plot the points using the scatter function\n",
        "plt.scatter(points[:,0], points[:,1])\n",
        "plt.axis('equal')\n",
        "plt.show()"
      ],
      "metadata": {
        "id": "vDoAtwCQ7-yt",
        "colab": {
          "base_uri": "https://localhost:8080/",
          "height": 430
        },
        "outputId": "b3e8f5d0-fab6-4494-f3d9-5ee31f5b73fb"
      },
      "execution_count": 4,
      "outputs": [
        {
          "output_type": "display_data",
          "data": {
            "text/plain": [
              "<Figure size 640x480 with 1 Axes>"
            ],
            "image/png": "[encoded data removed]"
          },
          "metadata": {}
        }
      ]
    },
    {
      "cell_type": "markdown",
      "source": [
        "As stated in the beginning, an SVM requires the data to be labeled. We created the dataset but now we need to label it. Let's define cluster 1 to have label `-1` and cluster 2 to have label `+1`."
      ],
      "metadata": {
        "id": "_Fj_NZHd2gNc"
      }
    },
    {
      "cell_type": "code",
      "source": [
        "# Creating labels\n",
        "labels = np.zeros(n_points)\n",
        "labels[:n_points_per_cluster] = -1\n",
        "labels[n_points_per_cluster:] = +1"
      ],
      "metadata": {
        "id": "ABxApYzQ1gB9"
      },
      "execution_count": 9,
      "outputs": []
    },
    {
      "cell_type": "code",
      "source": [
        "# Let's visualize each cluster separately as generated\n",
        "def plot_points(points, labels):\n",
        "  for label, color in zip([-1,+1], 'rg'):\n",
        "    plt.scatter(points[labels == label, 0], points[labels == label, 1], c=color)\n",
        "  plt.legend(['Cluster 1', 'Cluster 2'])\n",
        "  plt.axis('equal')\n",
        "\n",
        "plot_points(points, labels)\n",
        "plt.show()"
      ],
      "metadata": {
        "id": "hS_STuR_jkLX",
        "colab": {
          "base_uri": "https://localhost:8080/",
          "height": 430
        },
        "outputId": "1028bf76-118f-4d50-c41b-e8fc79055576"
      },
      "execution_count": 10,
      "outputs": [
        {
          "output_type": "display_data",
          "data": {
            "text/plain": [
              "<Figure size 640x480 with 1 Axes>"
            ],
            "image/png": "[encoded data removed]"
          },
          "metadata": {}
        }
      ]
    },
    {
      "cell_type": "markdown",
      "source": [
        "# Linear SVM Algorithm\n",
        "\n",
        "We are given a training dataset of $n$ points in the form\n",
        "\n",
        "$$\n",
        "\\{(\\mathbf{x}_1, y_1), ..., (\\mathbf{x}_i, y_i), (\\mathbf{x}_n, y_n)\\}\n",
        "$$\n",
        "\n",
        "where $\\mathbf{x}_i$ is a data point with $d$ dimensions and $y_i \\in \\{-1, +1\\}$ is the class label.\n",
        "\n",
        "The idea of SVM is to find the *maximum-margin hyperplane* that separates these two classes. This hyperplane is located such that the distances from the closest points from each class to the plane are maximized. These closest points are referred to as *support vectors*.\n",
        "\n",
        "Mathematically, a hyperplane can be written as:\n",
        "$$\n",
        "\\mathbf{w}^T \\mathbf{x} - b = 0  \\tag{1}\n",
        "$$\n",
        "\n",
        "Here $\\mathbf{w}$ is the normal vector to the hyperplane. The distance from the hyperplane to the origin is defined to be $\\frac{b}{||\\mathbf{w}||}$, where $||\\mathbf{w}||$ is the magnitude of the weight vector $\\mathbf{w}$.\n",
        "\n",
        "In cases where the two classes are linearly separable, we can define two parallel hyperplanes to separate the classes such that the distance between the two is maximized. The area between the hyperplanes is termed the *margin*. The *maximum-margin hyperplane* lies in between the two.\n",
        "The equations for these two hyperplanes are thus:\n",
        "$$\n",
        "\\mathbf{w}^T \\mathbf{x} - b = +1  \\tag{2}\n",
        "$$\n",
        "$$\n",
        "\\mathbf{w}^T \\mathbf{x} - b = -1  \\tag{3}\n",
        "$$\n",
        "\n",
        "For $(2)$: any data point on or above this boundary belongs to the class with label $+1$; and for $(3)$: any data point on or below this boundary belongs to the class with label $-1$.\n",
        "The distance between the two hyperplanes, the *margin*, is thus $\\frac{2}{||\\mathbf{w}||}$.\n",
        "To realize the *maximum-margin hyperplane*, we need to maximize this distance, meaning we need to minimize $||\\mathbf{w}||$.\n",
        "\n",
        "One additional constraint we need to remember is to have no points on the wrong side of the margin. This can be formulated in the following manner:\n",
        "$$\n",
        "\\mathbf{w}^T \\mathbf{x}_i - b \\ge +1  \\quad\\text{if}\\ y_i = +1\n",
        "$$\n",
        "$$\n",
        "\\mathbf{w}^T \\mathbf{x}_i - b \\le -1  \\quad\\text{if}\\ y_i = -1\n",
        "$$\n",
        "The left side of the equation is the distance to the hyperplane.\n",
        "Putting the equations together, we can write:\n",
        "$$\n",
        "y_i(\\mathbf{w}^T\\mathbf{x}_i - b) \\ge 1 \\quad\n",
        "\\forall i \\in \\{1,...,n\\}\n",
        "$$\n",
        "\n",
        "Thus our optimization simplifies to:\n",
        "$$\n",
        "\\min_{\\mathbf{w}, b} ||\\mathbf{w}||_2^2 \\\\\n",
        "\\text{such that } y_i(\\mathbf{w}^T \\mathbf{x}_i - b) \\ge 1\\,,\\; \\forall i \\in \\{1,...,n\\}\n",
        "$$\n",
        "\n",
        "## Soft-Margin\n",
        "\n",
        "To extend this framework to the case where the classes are *not* linearly separable, a *soft-margin* classifier is created by adding a penalty for points on the wrong side of the margin:\n",
        "$$\n",
        "\\min_{\\mathbf{w}, b, \\boldsymbol{\\zeta}} ||\\mathbf{w}||_2^2\n",
        "  + C \\sum_{i=1}^n \\zeta_i\n",
        "\\\\\n",
        "\\text{such that }\n",
        "  y_i(\\mathbf{w}^T \\mathbf{x}_i - b) \\ge 1 \\,,\\;\n",
        "  \\zeta_i \\ge 0 \\,,\\;\n",
        "  \\forall i \\in \\{1,...,n\\}\n",
        "$$\n",
        "Here $C$ is a weighting parameter: with a sufficiently large $C$, the algorithm behaves as a hard-margin classifier.\n",
        "\n",
        "## Dual Problem\n",
        "\n",
        "The above optimization problem can be simplified in the following manner using the Lagrangian dual (which we will not discuss in depth in this subject).\n",
        "$$\n",
        "\\max_{\\mathbf{c}}\n",
        "  \\sum_{i=1}^n c_i\n",
        "  - \\frac12\n",
        "    \\sum_{i=1}^n\n",
        "    \\sum_{j=1}^n\n",
        "    c_i y_i (\\mathbf{x}_i^T \\mathbf{x}_j) y_j c_j\n",
        "\\\\\n",
        "\\text{such that }\n",
        "  \\sum_{i=1}^n c_iy_i = 0 \\,,\\;\n",
        "  0 \\le c_i \\le \\frac1{2n\\lambda}\\,,\\;\n",
        "  \\forall i \\in \\{1,...,n\\} \\tag{4}\n",
        "$$\n",
        "\n",
        "The soft-margin weighting parameter $C$ is here replaced by the inversely related $\\lambda$: small values of $\\lambda$ produce a hard-margin classifier.\n",
        "\n",
        "Instead of *minimising* with respect to the variables $\\mathbf{w}$, $b$, and $\\boldsymbol{\\zeta}$, the dual form *maximizes* with respect to the *dual variables* $\\mathbf{c}$.\n",
        "Based on the quadratic programming solution in $\\mathbf{c}$, the original variable $\\mathbf{w}$ can be calculated as:\n",
        "$$\n",
        "\\mathbf{w} = \\sum_{i=1}^n c_i y_i \\mathbf{x}_i \\tag{5}\n",
        "$$\n",
        "After optimisation, most $c_i$ should be zero (or close to zero), where $\\mathbf{x}_i$ lies on the correct side of the margin. For the few $\\mathbf{x}_i$ that lie *on* the margin boundary itself, the associated $c_i$ are non-zero: these are termed the *support vectors*. Thus, $\\mathbf{w}$ is the weighted (by $c_i$) sum of these support vectors.\n",
        "\n",
        "Likewise, $b$ can be calculated by first finding a $\\mathbf{x}_i$ on the margin's boundary, and using the below relation:\n",
        "$$\n",
        "b = \\mathbf{w}^T \\mathbf{x}_i - y_i \\tag{6}\n",
        "$$\n",
        "\n",
        "The dual problem can be efficiently solved using quadratic programming algorithms. In this tutorial, we will use the `solve_qp` function from `qpsolvers` Python library."
      ],
      "metadata": {
        "id": "bpn3B4tZ3Hqc"
      }
    },
    {
      "cell_type": "code",
      "source": [
        "# install the quadratic solvers\n",
        "%pip install qpsolvers\n",
        "import qpsolvers\n",
        "from qpsolvers import solve_qp\n",
        "solver = qpsolvers.available_solvers[0]\n",
        "qpsolvers.available_solvers"
      ],
      "metadata": {
        "id": "RWwqBvwRVL53",
        "colab": {
          "base_uri": "https://localhost:8080/"
        },
        "outputId": "dec6228b-fe13-401c-8296-d07cc91ecb53"
      },
      "execution_count": 5,
      "outputs": [
        {
          "output_type": "stream",
          "name": "stdout",
          "text": [
            "Collecting qpsolvers\n",
            "  Downloading qpsolvers-4.5.0-py3-none-any.whl.metadata (11 kB)\n",
            "Requirement already satisfied: numpy>=1.15.4 in /usr/local/lib/python3.11/dist-packages (from qpsolvers) (1.26.4)\n",
            "Requirement already satisfied: scipy>=1.2.0 in /usr/local/lib/python3.11/dist-packages (from qpsolvers) (1.14.1)\n",
            "Downloading qpsolvers-4.5.0-py3-none-any.whl (83 kB)\n",
            "\u001b[2K   \u001b[90m━━━━━━━━━━━━━━━━━━━━━━━━━━━━━━━━━━━━━━━━\u001b[0m \u001b[32m83.6/83.6 kB\u001b[0m \u001b[31m2.1 MB/s\u001b[0m eta \u001b[36m0:00:00\u001b[0m\n",
            "\u001b[?25hInstalling collected packages: qpsolvers\n",
            "Successfully installed qpsolvers-4.5.0\n"
          ]
        },
        {
          "output_type": "execute_result",
          "data": {
            "text/plain": [
              "['clarabel', 'cvxopt', 'highs', 'osqp', 'scs']"
            ]
          },
          "metadata": {},
          "execution_count": 5
        }
      ]
    },
    {
      "cell_type": "markdown",
      "source": [
        "# Quadratic Program\n",
        "\n",
        "The objective of a quadratic programming problem is to find $n$-dimensional $\\mathbf{x}$ which minimizes the following set up.\n",
        "$$\n",
        "\\min \\frac{1}{2}\\mathbf{x}^TP\\mathbf{x} + \\mathbf{q}^T\\mathbf{x} \\\\\n",
        "\\text{subject to }\n",
        "  G \\mathbf{x} \\le h \\,,\\;\n",
        "  A\\mathbf{x} = b \\,,\\;\n",
        "  lb \\le \\mathbf{x} \\le ub\n",
        "\\tag{7}\n",
        "$$\n",
        "\n",
        "<!-- * $\\mathbf{x}$ is $n$-dimensional vector\n",
        "* $\\mathbf{q}$ is $n$-dimensional and real-valued vector\n",
        "* P is $n\\times n$-dimensional and real symmetric matrix\n",
        "* G is $m\\times n$-dimensional and real matrix\n",
        "* $\\mathbf{h}$ is $m$-dimensional and real-valued vector -->\n",
        "Equality constraints are defined in terms of by $A$ and $b$, and inequality constraints in terms $G$ and $h$ or $lb$ and $ub$. Based on the optimization problem, you need to define these values.\n",
        "\n",
        "## Helpful Hints\n",
        "\n",
        "1. The dot product between two vectors of the same length is the same as matrix multiplication of one with the other's transpose.\n",
        "$$\n",
        "\\mathbf{a} \\cdot \\mathbf{x} =\n",
        "\\mathbf{a}^T \\mathbf{x} =\n",
        "\\sum_i a_i x_i\n",
        "$$\n",
        "\n",
        "2. If you have a $n$ dimensional vector $\\mathbf{x}$ and a $n \\times n$ matrix $A$, you can write the following:\n",
        "$$\n",
        "\\mathbf{x}^T A \\mathbf{x} = \\sum_i^n \\sum_j^n x_i a_{ij} x_j\n",
        "$$\n",
        "\n",
        "<!-- The objective function (4) can be modified to look as follows:\n",
        "$$\n",
        "\\min_{\\mathbf{c}}\n",
        "  - \\mathbf{1}_{n\\times1}^T \\mathbf{c}\n",
        "  + \\frac12\n",
        "    \\mathbf{c}^T\n",
        "    A\n",
        "    \\mathbf{c} \\tag{5}\n",
        "\\\\\n",
        "$$ -->\n",
        "\n",
        "<!-- where A can be of the following form:\n",
        "$$\n",
        "A^1_{n\\times m} A^2_{m\\times n} = A_{n\\times n}\n",
        "\\\\\n",
        "a_{i,k} = \\sum_{k=1}^m a^1_{i,j} a^2_{j,k}\n",
        "$$ -->\n",
        "\n",
        "\n",
        "Hint: Compare these identities and equation (7) to equation (4) to derive answers for the questions below."
      ],
      "metadata": {
        "id": "glwesN9eQyEf"
      }
    },
    {
      "cell_type": "markdown",
      "source": [
        "## Dual Problem\n",
        "$$\n",
        "\\max_{\\mathbf{c}}\n",
        "  \\sum_{i=1}^n c_i\n",
        "  - \\frac12\n",
        "    \\sum_{i=1}^n\n",
        "    \\sum_{j=1}^n\n",
        "    c_i y_i (\\mathbf{x}_i^T \\mathbf{x}_j) y_j c_j\n",
        "\\\\\n",
        "\\text{such that }\n",
        "  \\sum_{i=1}^n c_iy_i = 0 \\,,\\;\n",
        "  0 \\le c_i \\le \\frac1{2n\\lambda}\\,,\\;\n",
        "  \\forall i \\in \\{1,...,n\\} \\tag{4}\n",
        "$$\n",
        "\n",
        "# Quadratic Program\n",
        "\n",
        "The objective of a quadratic programming problem is to find $n$-dimensional $\\mathbf{x}$ which minimizes the following set up.\n",
        "$$\n",
        "\\min \\frac{1}{2}\\mathbf{x}^TP\\mathbf{x} + \\mathbf{q}^T\\mathbf{x} \\\\\n",
        "\\text{subject to }\n",
        "  G \\mathbf{x} \\le h \\,,\\;\n",
        "  A\\mathbf{x} = b \\,,\\;\n",
        "  lb \\le \\mathbf{x} \\le ub\n",
        "\\tag{7}\n",
        "$$"
      ],
      "metadata": {
        "id": "pPO0SCtyOuvS"
      }
    },
    {
      "cell_type": "code",
      "source": [
        "# TODO fill in the following assignments to solve the quadratic equation\n",
        "n = points.shape[0] # total number of data points, should be 200\n",
        "x = points # data points of shape [n,f] where f is the number of features\n",
        "y = labels # label values of shape [n]\n",
        "y = y.astype(float) # solver requires floats not integers\n",
        "l = 1e-5  # lambda\n",
        "\n",
        "xy = x*y [:, None] # shape [n, f], gives values of x times by y\n",
        "P =  xy @ xy.T # shape [n, n]\n",
        "q = -1*np.ones(n) # shape [n]\n",
        "\n",
        "n_eq_constr = 3 # number of equality constraints\n",
        "n_ineq_constr = 3 # number of inequality constraints\n",
        "\n",
        "A = y[None, :] # shape [n_eq_constr, n]\n",
        "b = np.zeros(1)    # shape [n_eq_constr]\n",
        "\n",
        "# It is easier to give the inequality constraints via the lb and ub arguments\n",
        "\n",
        "G = None # shape [n_ineq_constr, n]\n",
        "h = None # shape [n_ineq_constr]\n",
        "lb = np.zeros(n) # shape [n]\n",
        "ub = (1/(2*n*1)) * np.ones(n) # shape [n]\n",
        "\n",
        "c = solve_qp(P, q, G, h, A, b, lb, ub, solver=solver)\n",
        "# Note when c is closer to zero it is on the correct side fo the boundary and non-zero c represent support vectors."
      ],
      "metadata": {
        "id": "GiTBy6wv2fm4",
        "colab": {
          "base_uri": "https://localhost:8080/"
        },
        "outputId": "49396e17-e8a2-4284-b6e4-eca3179c1bdd"
      },
      "execution_count": 11,
      "outputs": [
        {
          "output_type": "stream",
          "name": "stderr",
          "text": [
            "/usr/local/lib/python3.11/dist-packages/qpsolvers/conversions/ensure_sparse_matrices.py:24: UserWarning: Converted P to scipy.sparse.csc.csc_matrix\n",
            "For best performance, build P as a scipy.sparse.csc_matrix rather than as a numpy.ndarray\n",
            "  warnings.warn(\n",
            "/usr/local/lib/python3.11/dist-packages/qpsolvers/conversions/ensure_sparse_matrices.py:24: UserWarning: Converted A to scipy.sparse.csc.csc_matrix\n",
            "For best performance, build A as a scipy.sparse.csc_matrix rather than as a numpy.ndarray\n",
            "  warnings.warn(\n"
          ]
        }
      ]
    },
    {
      "cell_type": "markdown",
      "source": [
        "## Helpful Hints\n",
        "\n",
        "1. The dot product between two vectors of the same length is the same as matrix multiplication of one with the other's transpose.\n",
        "$$\n",
        "$$\n",
        "$$\n",
        "\\mathbf{a} \\cdot \\mathbf{x} =\n",
        "\\mathbf{a}^T \\mathbf{x} =\n",
        "\\sum_i a_i x_i\n",
        "$$\n",
        "\n",
        "$$\n",
        "\\mathbf{w} = \\sum_{i=1}^n c_i y_i \\mathbf{x}_i \\tag{5}\n",
        "$$\n",
        "\n",
        "$$\n",
        "$$\n",
        "\n",
        "$$\n",
        "b = \\mathbf{w}^T \\mathbf{x}_i - y_i \\tag{6}\n",
        "$$"
      ],
      "metadata": {
        "id": "4PLI1Gy2TKob"
      }
    },
    {
      "cell_type": "code",
      "source": [
        "# Calculate the weights\n",
        "w = c @ xy # Use equation (5)\n",
        "# c_i * y_i * x_i = c . xy\n",
        "\n",
        "# First calculate the support vectors.\n",
        "# Hint: Support vectors have non-zero c values. We can find them by figuring out how many c values are non-zero (greater than a threshold value).\n",
        "# Use l as your threshold. We need to go about this way due to floating point issues of zero.\n",
        "\n",
        "sv = (c > 1) # all values from C vector that are greater than 1\n",
        "\n",
        "n_support_vectors =len(sv)\n",
        "\n",
        "# print(n_support_vectors)\n",
        "\n",
        "# Use equation (6) to calculate b value for each support vector\n",
        "b_sv = x[sv] @ w - y[sv] #w @ x[sv].T - y[sv]\n",
        "\n",
        "# TODO If the problem is linearly seperable what can you say about the b values derived from each support vector?\n",
        "\n",
        "# Average to achieve a single b value\n",
        "b = b_sv.mean()\n"
      ],
      "metadata": {
        "id": "QMbqN9DVGzv-",
        "colab": {
          "base_uri": "https://localhost:8080/"
        },
        "outputId": "dd583ec6-6f7d-4693-e5f7-56ce262c8369"
      },
      "execution_count": 12,
      "outputs": [
        {
          "output_type": "stream",
          "name": "stderr",
          "text": [
            "<ipython-input-12-e08f94ac1f53>:21: RuntimeWarning: Mean of empty slice.\n",
            "  b = b_sv.mean()\n",
            "/usr/local/lib/python3.11/dist-packages/numpy/core/_methods.py:129: RuntimeWarning: invalid value encountered in scalar divide\n",
            "  ret = ret.dtype.type(ret / rcount)\n"
          ]
        }
      ]
    },
    {
      "cell_type": "markdown",
      "source": [
        "The equations for these two hyperplanes are thus:\n",
        "$$\n",
        "\\mathbf{w}^T \\mathbf{x} - b = +1  \\tag{2}\n",
        "$$\n",
        "$$\n",
        "\\mathbf{w}^T \\mathbf{x} - b = -1  \\tag{3}\n",
        "$$"
      ],
      "metadata": {
        "id": "3uWNQufgWvgc"
      }
    },
    {
      "cell_type": "code",
      "source": [
        "# Let's get the score (class label) for each point as per the SVM solution\n",
        "# TODO convert it into labels of +1 or -1\n",
        "# Hint: use np.sign function\n",
        "pred = np.sign(x @ w - b) # see equations (1), (2), and (3)\n",
        "\n",
        "# w^T * x - b = x @ w - b\n",
        "\n",
        "pred = pred.astype(int)\n",
        "\n",
        "# TODO calcualate the accuracy\n",
        "# Hint: compare predition class labels to actual class labels\n",
        "tp = np.sum( (labels == 1) & (pred == 1) )  # true positive\n",
        "fp = np.sum( (labels != 1) & (pred == 1) )  # false positive\n",
        "fn = np.sum( (labels == 1) & (pred != 1) )  # false negative\n",
        "tn = np.sum( (labels != 1) & (pred != 1) )  # true negative\n",
        "\n",
        "accuracy = (tp + tn) / (tp + tn + fp + fn)\n",
        "\n",
        "print(f'The accuracy of the SVM is {accuracy}')"
      ],
      "metadata": {
        "id": "yL1jG4f_suSr",
        "colab": {
          "base_uri": "https://localhost:8080/"
        },
        "outputId": "daeff4fb-50aa-40bc-e06a-960b3082cc28"
      },
      "execution_count": 14,
      "outputs": [
        {
          "output_type": "stream",
          "name": "stdout",
          "text": [
            "The accuracy of the SVM is 0.5\n"
          ]
        },
        {
          "output_type": "stream",
          "name": "stderr",
          "text": [
            "<ipython-input-14-50c1f7acb711>:8: RuntimeWarning: invalid value encountered in cast\n",
            "  pred = pred.astype(int)\n"
          ]
        }
      ]
    },
    {
      "cell_type": "markdown",
      "source": [
        "# Set-up to visualise the line that seperates the classes\n",
        "\n",
        "We will use the code below to draw the line generated from the SVM algorithm to separate the two classes."
      ],
      "metadata": {
        "id": "XsTLR79zuQTD"
      }
    },
    {
      "cell_type": "code",
      "source": [
        "# Draw a line\n",
        "def abline(slope, intercept):\n",
        "    \"\"\"Plot a line from slope and intercept\"\"\"\n",
        "    axes = plt.gca()\n",
        "    x_vals = np.array(axes.get_xlim())\n",
        "    y_vals = intercept + slope * x_vals\n",
        "    plt.plot(x_vals, y_vals, '-k')\n",
        "    axes.set_xlim(x_vals)\n",
        "\n",
        "# Calculate slope and intercepts based on x and b\n",
        "# TODO: If the equation of a line in ax+by+c = 0 and it slope and y_intercept and be written as -a/b and -c/b, see how it relates to w and b from the hyperplane equation.\n",
        "def calculate_slope_intercept(w, b):\n",
        "  x_intercept = b / w[0]\n",
        "  y_intercept = b / w[1]\n",
        "  slope = -w[0]/w[1]\n",
        "  return slope, y_intercept\n",
        "\n",
        "def plot_margin(w, b):\n",
        "  for i in [-1,0,+1]:\n",
        "    abline(*calculate_slope_intercept(w, b+i))"
      ],
      "metadata": {
        "id": "yih4gW1m-T9u"
      },
      "execution_count": 21,
      "outputs": []
    },
    {
      "cell_type": "code",
      "source": [
        "# Let's visualise each cluster and draw the hyperplane (in this case the line) that seperates the two classes\n",
        "plot_points(points, labels)\n",
        "plot_margin(w, b)\n",
        "plt.show()"
      ],
      "metadata": {
        "id": "64QGwdcVTLGL",
        "colab": {
          "base_uri": "https://localhost:8080/",
          "height": 447
        },
        "outputId": "366250ce-a166-4cec-9eb9-7d36b50d9dbf"
      },
      "execution_count": 22,
      "outputs": [
        {
          "output_type": "stream",
          "name": "stderr",
          "text": [
            "WARNING:matplotlib.axes._base:Ignoring fixed x limits to fulfill fixed data aspect with adjustable data limits.\n"
          ]
        },
        {
          "output_type": "display_data",
          "data": {
            "text/plain": [
              "<Figure size 640x480 with 1 Axes>"
            ],
            "image/png": "[encoded data removed]"
          },
          "metadata": {}
        }
      ]
    },
    {
      "cell_type": "markdown",
      "source": [
        "# Non Separable Case\n",
        "\n",
        "Let's see what happens when the data is not linearly separable. To visualize this, we will create a new dataset following the same setup from the begining of this tutorial."
      ],
      "metadata": {
        "id": "z_KseyNnvYZ0"
      }
    },
    {
      "cell_type": "code",
      "source": [
        "rng = np.random.default_rng(4)  # Random Number Generator\n",
        "\n",
        "# Let's manually create some clusters\n",
        "mean = np.array([[0, 0], [5, 8]])  # Mean 2D position of the 2 clusters\n",
        "major = np.array([2, 3])  # Semi-major axis of the clusters (a)\n",
        "minor = np.array([2, 1])  # Semi-minor axis of the clusters (b)\n",
        "angle = np.array([0, pi/4])  # Angle of rotation of the clusters\n",
        "assert all(minor <= major)\n",
        "\n",
        "clusters = []\n",
        "covs = []\n",
        "\n",
        "for mn, mj, mi, a in zip(mean, major, minor, angle):\n",
        "    c = np.cos(a) # cosine of the angle\n",
        "    s = np.sin(a) # sine of the angle\n",
        "    R = np.array([\n",
        "        [c,-s],\n",
        "        [s, c],\n",
        "    ])  # 2D rotation matrix as per the specified angle\n",
        "    D = np.array([\n",
        "        [mj**2, 0],\n",
        "        [0, mi**2],\n",
        "    ]) # Diagonal matrix consisting of major and minor axis values\n",
        "    cov = R @ D @ R.T # Covariance of the ellipse (rotated)\n",
        "    covs.append(cov)\n",
        "    clusters.append(\n",
        "        rng.multivariate_normal(\n",
        "            mn, cov,\n",
        "            size=n_points_per_cluster,\n",
        "        ),  # Generate 100 random points from a multivariant normal with the specified mean and covariance.\n",
        "    )\n",
        "\n",
        "points = np.concatenate(clusters, axis=0)  # Concatenate all points in axis 0 resulting in [200, 2] vector.\n",
        "# Depending on your dataset these points will have the shape of [number of data points, number of features]\n",
        "\n",
        "#Let's visualize each cluster separately as generated\n",
        "plot_points(points, labels)\n",
        "plt.show()"
      ],
      "metadata": {
        "id": "aqpBjSt0vra5",
        "colab": {
          "base_uri": "https://localhost:8080/",
          "height": 430
        },
        "outputId": "7512a4bf-4a37-4957-9b66-2708691ff34f"
      },
      "execution_count": 23,
      "outputs": [
        {
          "output_type": "display_data",
          "data": {
            "text/plain": [
              "<Figure size 640x480 with 1 Axes>"
            ],
            "image/png": "[encoded data removed]"
          },
          "metadata": {}
        }
      ]
    },
    {
      "cell_type": "code",
      "source": [
        "# TODO fill in the following assignments to solve the quadratic equation\n",
        "n = n_points # total number of data points\n",
        "f = 200\n",
        "x = np.random.rand   # data points of shape [n,f] where f is the number of features\n",
        "y = labels # label values of shape [n]\n",
        "y = y.astype(float) # solver requires floats not integers\n",
        "l = 1e-5  # lambda\n",
        "\n",
        "xy = x*y[:, None]  # shape [n, f]\n",
        "P =  xy @ xy.T # shape [n, n]\n",
        "q =  -1*np.ones(n) # shape [n]\n",
        "\n",
        "A = y[None,:]# shape [n_eq_constr, n]\n",
        "b = np.zeros(1) # shape [n_eq_constr]\n",
        "\n",
        "# It is easier to give the inequality constraints via the lb and ub arguments\n",
        "G = None # shape [n_ineq_constr, n]\n",
        "h = None # shape [n_ineq_constr]\n",
        "lb = np.zeros(n)   # shape [n]\n",
        "ub = (1/(2*n*l)) * np.ones(n)  # shape [n]\n",
        "\n",
        "c = solve_qp(P, q, G, h, A, b, lb, ub, solver=solver)\n",
        "# Note when c is closer to zero it is on the correct side fo the boundary and non-zero c represent support vectors.\n",
        "\n",
        "# Calculate the weights\n",
        "w = c @ xy # Use equation (5)\n",
        "\n",
        "# First calculate the support vectors.\n",
        "# Hint: Support vectors have non-zero c values. We can find them by figuring out how many c values are non-zero (greater than a threshold value).\n",
        "# Use l as your threshold. We need to go about this way due to floating point issues of zero.\n",
        "sv = (c > 1) # all values from C vector that are greater than 1\n",
        "n_support_vectors = len(sv)\n",
        "\n",
        "# Use equation (6) to calculate b value for each support vector\n",
        "b_sv = x[sv] @ w - y[sv] #w @ x[sv].T - y[sv]\n",
        "# TODO If the problem is linearly seperable what can you say about the b values derived from each support vector?\n",
        "\n",
        "\n",
        "# Let's get the score (class label) for each point as per the SVM solution\n",
        "# Let's visualize each cluster and draw the hyperplane (in this case the line) that seperates the two classes\n",
        "plot_points(points, labels)\n",
        "\n",
        "# Show the hyperplane from each b from each support vector\n",
        "max = 0\n",
        "b_ind = 0\n",
        "for b_i in b_sv:\n",
        "  slope, y_intercept = calculate_slope_intercept(w, b_i)\n",
        "  abline(slope, y_intercept)\n",
        "  pred = np.sign(x @ w - b_i)\n",
        "  pred = pred.astype(int)\n",
        "\n",
        "  # TODO calcualate the accuracy\n",
        "  # Hint: compare predition class labels to actual class labels\n",
        "  accuracy =  np.mean(pred == labels)\n",
        "  if accuracy >= max:\n",
        "    max = accuracy\n",
        "  print(f'The accuracy of the SVM is {accuracy} for b = {b_i}')\n",
        "\n",
        "plt.show()\n",
        "\n",
        "# # Select a b value and show margin\n",
        "b = b_sv[b_ind]\n",
        "\n",
        "# Show margin\n",
        "plot_points(points, labels)\n",
        "plot_margin(w, b)\n",
        "plt.show()"
      ],
      "metadata": {
        "id": "UnRDzWt6wDrQ",
        "colab": {
          "base_uri": "https://localhost:8080/",
          "height": 211
        },
        "outputId": "3df232cc-eac2-429c-f49f-bf8a5896269e"
      },
      "execution_count": 32,
      "outputs": [
        {
          "output_type": "error",
          "ename": "TypeError",
          "evalue": "unsupported operand type(s) for *: 'builtin_function_or_method' and 'float'",
          "traceback": [
            "\u001b[0;31m---------------------------------------------------------------------------\u001b[0m",
            "\u001b[0;31mTypeError\u001b[0m                                 Traceback (most recent call last)",
            "\u001b[0;32m<ipython-input-32-89240f849634>\u001b[0m in \u001b[0;36m<cell line: 0>\u001b[0;34m()\u001b[0m\n\u001b[1;32m      7\u001b[0m \u001b[0ml\u001b[0m \u001b[0;34m=\u001b[0m \u001b[0;36m1e-5\u001b[0m  \u001b[0;31m# lambda\u001b[0m\u001b[0;34m\u001b[0m\u001b[0;34m\u001b[0m\u001b[0m\n\u001b[1;32m      8\u001b[0m \u001b[0;34m\u001b[0m\u001b[0m\n\u001b[0;32m----> 9\u001b[0;31m \u001b[0mxy\u001b[0m \u001b[0;34m=\u001b[0m \u001b[0mx\u001b[0m\u001b[0;34m*\u001b[0m\u001b[0my\u001b[0m\u001b[0;34m[\u001b[0m\u001b[0;34m:\u001b[0m\u001b[0;34m,\u001b[0m \u001b[0;32mNone\u001b[0m\u001b[0;34m]\u001b[0m  \u001b[0;31m# shape [n, f]\u001b[0m\u001b[0;34m\u001b[0m\u001b[0;34m\u001b[0m\u001b[0m\n\u001b[0m\u001b[1;32m     10\u001b[0m \u001b[0mP\u001b[0m \u001b[0;34m=\u001b[0m  \u001b[0mxy\u001b[0m \u001b[0;34m@\u001b[0m \u001b[0mxy\u001b[0m\u001b[0;34m.\u001b[0m\u001b[0mT\u001b[0m \u001b[0;31m# shape [n, n]\u001b[0m\u001b[0;34m\u001b[0m\u001b[0;34m\u001b[0m\u001b[0m\n\u001b[1;32m     11\u001b[0m \u001b[0mq\u001b[0m \u001b[0;34m=\u001b[0m  \u001b[0;34m-\u001b[0m\u001b[0;36m1\u001b[0m\u001b[0;34m*\u001b[0m\u001b[0mnp\u001b[0m\u001b[0;34m.\u001b[0m\u001b[0mones\u001b[0m\u001b[0;34m(\u001b[0m\u001b[0mn\u001b[0m\u001b[0;34m)\u001b[0m \u001b[0;31m# shape [n]\u001b[0m\u001b[0;34m\u001b[0m\u001b[0;34m\u001b[0m\u001b[0m\n",
            "\u001b[0;31mTypeError\u001b[0m: unsupported operand type(s) for *: 'builtin_function_or_method' and 'float'"
          ]
        }
      ]
    },
    {
      "cell_type": "markdown",
      "source": [
        "# Is there a better way to select $b$?\n",
        "\n",
        "We can use the metrics that we discussed in tutorial 1."
      ],
      "metadata": {
        "id": "Kga9lchnxflS"
      }
    },
    {
      "cell_type": "code",
      "source": [
        "%pip install sklearn\n",
        "# sometimes throws an error but works anyway"
      ],
      "metadata": {
        "id": "9XGFYByWTBh2"
      },
      "execution_count": null,
      "outputs": []
    },
    {
      "cell_type": "code",
      "source": [
        "# Calculate the metrics explained in tutorial 1\n",
        "# (using the scikit learn implementations)\n",
        "from sklearn.metrics import roc_curve, roc_auc_score\n",
        "\n",
        "score =  x @ w\n",
        "fpr, tpr, th =\n",
        "print(\"AUC:\", ...)\n",
        "\n",
        "# Plot ROC curve to see the effect of b. Mouse over the markers to see the\n",
        "# threshold (b) value.\n",
        "# The threshold (b) should be selected such that true positive rate is high and\n",
        "# the false positive rate is low, but there is a trade-off.\n",
        "px.line(\n",
        "    x=fpr, y=tpr, hover_data=dict(Threshold=th),\n",
        "    markers=True,\n",
        "    title=\"ROC curve\",\n",
        "    labels=dict(x=\"False positive rate\", y=\"True positive rate\"),\n",
        ")"
      ],
      "metadata": {
        "id": "mursJc5xcCKG"
      },
      "execution_count": null,
      "outputs": []
    },
    {
      "cell_type": "code",
      "source": [
        "# Select b and calculate predictions\n",
        "b = ...\n",
        "pred = ...\n",
        "\n",
        "# Calculate the metrics explained in tutorial 1\n",
        "# (using the scikit learn implementations)\n",
        "from sklearn.metrics import (\n",
        "    confusion_matrix,\n",
        "    accuracy_score, f1_score, jaccard_score,\n",
        ")\n",
        "\n",
        "print(\"Confusion matrix:\", ..., sep='\\n')\n",
        "print(\"F1 score:\", ...)\n",
        "print(\"Jaccard score (IoU):\", ...)\n",
        "\n",
        "# Let's visualize each cluster and draw the hyperplane (in this case the line) that seperates the two classes\n",
        "plot_points(points, labels)\n",
        "plot_margin(w, b)\n",
        "plt.show()"
      ],
      "metadata": {
        "id": "2TmyZT_fU9oy"
      },
      "execution_count": null,
      "outputs": []
    }
  ]
}